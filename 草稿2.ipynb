{
 "cells": [
  {
   "cell_type": "markdown",
   "metadata": {},
   "source": [
    "# 矩阵"
   ]
  },
  {
   "cell_type": "code",
   "execution_count": 291,
   "metadata": {},
   "outputs": [],
   "source": [
    "import numpy as np\n",
    "import matplotlib.pyplot as plt\n",
    "from scipy.stats import multivariate_normal\n"
   ]
  },
  {
   "cell_type": "code",
   "execution_count": 292,
   "metadata": {},
   "outputs": [
    {
     "data": {
      "text/plain": [
       "0.2054"
      ]
     },
     "execution_count": 292,
     "metadata": {},
     "output_type": "execute_result"
    }
   ],
   "source": [
    "a=0.995*0.2+0.008*0.8\n",
    "a"
   ]
  },
  {
   "cell_type": "code",
   "execution_count": 293,
   "metadata": {},
   "outputs": [
    {
     "data": {
      "text/plain": [
       "0.199"
      ]
     },
     "execution_count": 293,
     "metadata": {},
     "output_type": "execute_result"
    }
   ],
   "source": [
    "b=0.995*0.2\n",
    "b"
   ]
  },
  {
   "cell_type": "code",
   "execution_count": 294,
   "metadata": {},
   "outputs": [
    {
     "data": {
      "text/plain": [
       "0.199"
      ]
     },
     "execution_count": 294,
     "metadata": {},
     "output_type": "execute_result"
    }
   ],
   "source": [
    "\n",
    "b"
   ]
  },
  {
   "cell_type": "code",
   "execution_count": 295,
   "metadata": {},
   "outputs": [],
   "source": [
    "import numpy as np\n",
    "\n",
    "# Define the function f(x1, x2)\n",
    "def f(x1, x2):\n",
    "    return x1**2 + 2*x1*x2 + 3*x2**2\n",
    "\n",
    "# Define the gradient of f(x1, x2)\n",
    "def grad_f(x1, x2):\n",
    "    df_dx1 = 2*x1 + 2*x2\n",
    "    df_dx2 = 2*x1 + 6*x2\n",
    "    return np.array([df_dx1, df_dx2])\n",
    "\n",
    "# Initial point x^(0) = (3, 3)\n",
    "x0 = np.array([3, 3])\n",
    "\n",
    "# Step size λ = 0.1\n",
    "lambda_step = 0.1\n",
    "\n",
    "# Compute the function value and gradient at x^(0)\n",
    "f_x0 = f(x0[0], x0[1])\n",
    "def mgrad(x0):\n",
    "    grad_x0 = grad_f(x0[0], x0[1])\n",
    "    mo=np.linalg.norm(grad_x0)\n",
    "    print(grad_x0)\n",
    "    return grad_x0/mo"
   ]
  },
  {
   "cell_type": "code",
   "execution_count": 296,
   "metadata": {},
   "outputs": [
    {
     "name": "stdout",
     "output_type": "stream",
     "text": [
      "[12 24]\n"
     ]
    },
    {
     "data": {
      "text/plain": [
       "array([2.955, 2.911])"
      ]
     },
     "execution_count": 296,
     "metadata": {},
     "output_type": "execute_result"
    }
   ],
   "source": [
    "\n",
    "# Perform the first gradient descent step to get x^(1)\n",
    "x1 = x0 - lambda_step *mgrad(x0)\n",
    "x1\n"
   ]
  },
  {
   "cell_type": "code",
   "execution_count": 297,
   "metadata": {},
   "outputs": [
    {
     "name": "stdout",
     "output_type": "stream",
     "text": [
      "51.35071842700025\n",
      "[11.732 23.374]\n"
     ]
    },
    {
     "data": {
      "text/plain": [
       "array([2.91 , 2.821])"
      ]
     },
     "execution_count": 297,
     "metadata": {},
     "output_type": "execute_result"
    }
   ],
   "source": [
    "f_x1 = f(x1[0], x1[1])\n",
    "print(f_x1)\n",
    "grad_x1 = grad_f(x1[0], x1[1])\n",
    "\n",
    "# Perform the second gradient descent step to get x^(2)\n",
    "x2 = x1 - lambda_step*mgrad(x1)\n",
    "x2\n"
   ]
  },
  {
   "cell_type": "code",
   "execution_count": 298,
   "metadata": {},
   "outputs": [
    {
     "data": {
      "text/plain": [
       "array([[-16, -16,   0],\n",
       "       [ 24,  24,   0],\n",
       "       [ 16,  16,   0]])"
      ]
     },
     "execution_count": 298,
     "metadata": {},
     "output_type": "execute_result"
    }
   ],
   "source": [
    "import numpy as np\n",
    "\n",
    "a = np.array([\n",
    "    [0,1, 0, 0],\n",
    "    [0,0, 1, 0],\n",
    "    [0, 0, 0,1],\n",
    "    [1, 0, 0,0],\n",
    "])\n",
    "b = np.array([\n",
    "    [1,2, 4, 17],\n",
    "    [3,6, -12, 3],\n",
    "    [2, 3, -3,2],\n",
    "    [0, 2, -2,6],\n",
    "])\n",
    "c = np.array([\n",
    "    [0,-1,1],\n",
    "    [0, -2, 2],\n",
    "    [0, -3,3],\n",
    "])\n",
    "f = np.array([\n",
    "    [-2,0,-4],\n",
    "    [4, 2, 4],\n",
    "    [3, 2,2],\n",
    "])\n",
    "f@f@f\n"
   ]
  },
  {
   "cell_type": "code",
   "execution_count": 299,
   "metadata": {},
   "outputs": [
    {
     "name": "stdout",
     "output_type": "stream",
     "text": [
      "[[  3   6 -12   3]\n",
      " [  2   3  -3   2]\n",
      " [  0   2  -2   6]\n",
      " [  1   2   4  17]]\n"
     ]
    }
   ],
   "source": [
    "inv_arr = np.linalg.inv(a)\n",
    "print(a@b)"
   ]
  },
  {
   "cell_type": "code",
   "execution_count": 300,
   "metadata": {},
   "outputs": [
    {
     "name": "stdout",
     "output_type": "stream",
     "text": [
      "[[  3.   6. -12.   3.]\n",
      " [  2.   3.  -3.   2.]\n",
      " [  1.   2.   4.  17.]\n",
      " [  0.   2.  -2.   6.]]\n"
     ]
    }
   ],
   "source": [
    "import numpy as np\n",
    "\n",
    "a = np.array([\n",
    "    [1,0, 0, 0],\n",
    "    [2/3,1, 0, 0],\n",
    "    [1/3, 0, 1,0],\n",
    "    [0, -2, 1,1],\n",
    "\n",
    "])\n",
    "b = np.array([\n",
    "    [3,6, -12, 3],\n",
    "    [0,-1, 5, 0],\n",
    "    [0, 0, 8,16],\n",
    "    [0, 0, 0,-10],\n",
    "])\n",
    "\n",
    "#inv_arr = np.linalg.inv(a)\n",
    "print(a@b)"
   ]
  },
  {
   "cell_type": "code",
   "execution_count": 301,
   "metadata": {},
   "outputs": [
    {
     "data": {
      "text/plain": [
       "array([[ 0.333,  2.   , -0.75 , -1.1  ],\n",
       "       [-0.   , -1.   ,  0.625,  1.   ],\n",
       "       [ 0.   ,  0.   ,  0.125,  0.2  ],\n",
       "       [-0.   , -0.   , -0.   , -0.1  ]])"
      ]
     },
     "execution_count": 301,
     "metadata": {},
     "output_type": "execute_result"
    }
   ],
   "source": [
    "np.linalg.inv(b)"
   ]
  },
  {
   "cell_type": "markdown",
   "metadata": {},
   "source": [
    "# LU"
   ]
  },
  {
   "cell_type": "code",
   "execution_count": 302,
   "metadata": {},
   "outputs": [
    {
     "name": "stdout",
     "output_type": "stream",
     "text": [
      "[ 2. -1.  0.  1.]\n",
      "[[  3.   6. -12.   3.]\n",
      " [  0.   2.  -2.   6.]\n",
      " [  1.   2.   4.  17.]\n",
      " [  2.   3.  -3.   2.]]\n"
     ]
    }
   ],
   "source": [
    "import numpy as np\n",
    "from scipy.linalg import lu\n",
    "\n",
    "\n",
    "# 测试矩阵\n",
    "A = np.array([\n",
    " [  1 ,  2  , 4  ,17],\n",
    "\t[  3 ,  6 ,-12  , 3],\n",
    " [  2,   3  ,-3  , 2],\n",
    " [  0  , 2  ,-2 ,  6],]\n",
    ")\n",
    "b=np.array([17,3,3,4])\n",
    "# 进行LU分解\n",
    "P, L, U = lu(A)\n",
    "x = np.linalg.solve(A, b)\n",
    "\n",
    "print(x)\n",
    "\n",
    "print(L@U)"
   ]
  },
  {
   "cell_type": "code",
   "execution_count": 303,
   "metadata": {},
   "outputs": [
    {
     "name": "stdout",
     "output_type": "stream",
     "text": [
      "QR分解:\n",
      "Q =\n",
      " [[-0.267 -0.066  0.884 -0.378]\n",
      " [-0.802 -0.197 -0.419 -0.378]\n",
      " [-0.535  0.329  0.186  0.756]\n",
      " [-0.    -0.921  0.093  0.378]]\n",
      "R =\n",
      " [[-3.742 -6.949 10.156 -8.018]\n",
      " [ 0.    -2.171  2.961 -6.58 ]\n",
      " [ 0.     0.     7.816 14.702]\n",
      " [ 0.     0.     0.    -3.78 ]]\n",
      "\n",
      "LU分解:\n",
      "P =\n",
      " [[0. 0. 1. 0.]\n",
      " [1. 0. 0. 0.]\n",
      " [0. 0. 0. 1.]\n",
      " [0. 1. 0. 0.]]\n",
      "L =\n",
      " [[ 1.     0.     0.     0.   ]\n",
      " [ 0.     1.     0.     0.   ]\n",
      " [ 0.333  0.     1.     0.   ]\n",
      " [ 0.667 -0.5    0.5    1.   ]]\n",
      "U =\n",
      " [[  3.   6. -12.   3.]\n",
      " [  0.   2.  -2.   6.]\n",
      " [  0.   0.   8.  16.]\n",
      " [  0.   0.   0.  -5.]]\n"
     ]
    }
   ],
   "source": [
    "\n",
    "\n",
    "import numpy as np\n",
    "from scipy import linalg\n",
    "\n",
    "# QR分解\n",
    "Q, R = np.linalg.qr(A)\n",
    "print(\"QR分解:\")\n",
    "print(\"Q =\\n\", Q)\n",
    "print(\"R =\\n\", R)\n",
    "\n",
    "# LU分解\n",
    "P, L, U = linalg.lu(A)\n",
    "print(\"\\nLU分解:\")\n",
    "print(\"P =\\n\", P)\n",
    "print(\"L =\\n\", L)\n",
    "print(\"U =\\n\", U)\n"
   ]
  },
  {
   "cell_type": "code",
   "execution_count": 304,
   "metadata": {},
   "outputs": [
    {
     "name": "stdout",
     "output_type": "stream",
     "text": [
      "第0行,L:[[ 0.   0.   0. ]\n",
      " [-0.5  0.   0. ]\n",
      " [-1.   0.   0. ]]\n",
      "U:[[ -2.   -5.   20.    2. ]\n",
      " [  0.   16.5 -24.    1. ]\n",
      " [  0.    3.   57.    3. ]]\n",
      "\n",
      "第1行,L:[[ 0.     0.     0.   ]\n",
      " [-0.5    0.     0.   ]\n",
      " [-1.     0.182  0.   ]]\n",
      "U:[[ -2.     -5.     20.      2.   ]\n",
      " [  0.     16.5   -24.      1.   ]\n",
      " [  0.      0.     61.364   3.   ]]\n",
      "\n"
     ]
    },
    {
     "data": {
      "text/plain": [
       "(array([[0., 1., 0.],\n",
       "        [1., 0., 0.],\n",
       "        [0., 0., 1.]]),\n",
       " array([[ 1.   ,  0.   ,  0.   ],\n",
       "        [-0.5  ,  1.   ,  0.   ],\n",
       "        [-1.   ,  0.182,  1.   ]]),\n",
       " array([[ -2.   ,  -5.   ,  20.   ],\n",
       "        [  0.   ,  16.5  , -24.   ],\n",
       "        [  0.   ,   0.   ,  61.364]], dtype=float32))"
      ]
     },
     "execution_count": 304,
     "metadata": {},
     "output_type": "execute_result"
    }
   ],
   "source": [
    "import numpy as np\n",
    "from numpy.linalg import matrix_rank\n",
    "\n",
    "#控制小数点精度\n",
    "np.set_printoptions( precision=3, suppress=True )\n",
    "\n",
    "#交换矩阵两行\n",
    "def exchage_2_row(matrix,i,j):\n",
    "    t=np.copy(matrix)\n",
    "    matrix[i]=matrix[j]\n",
    "    matrix[j]=t[i]\n",
    "    return matrix\n",
    "\n",
    "#一般的LU分解，PA=LU\n",
    "def LU_Factor(matrix):\n",
    "    #矩阵运算都用numpy来处理\n",
    "    matrix=np.array(matrix)\n",
    "    (len_r,len_c)=matrix.shape\n",
    "\n",
    "    #首先保证是方阵才能LU分解\n",
    "    if len_r!=len_c:\n",
    "        print('-------------- warning -----------------')\n",
    "        print('warning: LU factor only accept square matrix!!!')\n",
    "        return -1\n",
    "    #不可逆的话也不可以分解\n",
    "    if matrix_rank(matrix)!=len_r:\n",
    "        print('-------------- warning -----------------')\n",
    "        print('warning: LU factor only accept nonsingular matrix!!!')\n",
    "        return -1\n",
    "    ## 第一步：增加b列向量得到增广矩阵\n",
    "    #初始化行交换顺序矩阵\n",
    "    ex_r_list=np.array([i+1 for i in range(len_r)])\n",
    "    extra_matirx=np.concatenate((matrix,np.expand_dims(ex_r_list,axis=0).T),axis=1).astype(np.float32)\n",
    "\n",
    "    ## 第二步：利用第1类和第3类行变换将矩阵上三角化\n",
    "    L_matrix=np.zeros(matrix.shape)\n",
    "    idx_c=0\n",
    "    for idx_r in range(len_r-1):#最后一次就不用操作了\n",
    "        #部分主元法，找一个绝对值最大元素的一行,并将其交换到当前的最顶端\n",
    "        choice_list=np.abs(extra_matirx[idx_r:len_r,idx_c])\n",
    "        pivot=idx_r+np.argmax(choice_list)\n",
    "        #如果最大主元都是0的话，那就肯定不可逆\n",
    "        if extra_matirx[pivot,idx_c]==0:\n",
    "            print('-------------- warning -----------------')\n",
    "            print('warning: LU factor only accept nonsingular matrix!!!')\n",
    "            return -1\n",
    "        #可以进行下去的话，就交换主元使其到最前面\n",
    "        extra_matirx=exchage_2_row(extra_matirx,idx_r,pivot)\n",
    "        L_matrix=exchage_2_row(L_matrix,idx_r,pivot)\n",
    "        #高斯消去\n",
    "        for i in range(idx_r+1,len_r):\n",
    "            if extra_matirx[i,idx_c]!=0 :\n",
    "                #得到第3类变换的系数\n",
    "                L_matrix[i,idx_c]=alpha=float(extra_matirx[i,idx_c])/extra_matirx[idx_r,idx_c]\n",
    "                extra_matirx[i,:len_r] = extra_matirx[i,:len_r]- extra_matirx[idx_r,:len_r]*alpha\n",
    "\n",
    "        idx_c+=1\n",
    "        print(f\"第{idx_r}行,L:{L_matrix}\\nU:{extra_matirx}\\n\")\n",
    "\n",
    "    ## 第三步：检查是否可逆（U矩阵对角线是否全非0）\n",
    "    for idx in range(len_r):\n",
    "        if extra_matirx[idx,idx]==0:\n",
    "            return -1\n",
    "\n",
    "    ## 第四步：得到分解结果\n",
    "    U_matrix=extra_matirx[:,:len_r]\n",
    "    P_matrix=np.zeros(matrix.shape)\n",
    "    for idx in range(len_r):\n",
    "        #L矩阵对角全化为1\n",
    "        L_matrix[idx,idx]=1\n",
    "        #算出P矩阵\n",
    "        P_matrix[idx,int(extra_matirx[idx,-1])-1]=1\n",
    "\n",
    "    return P_matrix,L_matrix,U_matrix\n",
    "\n",
    "def solve_LU_eqt(P,L,U,b):\n",
    "    dim=len(b)\n",
    "    #先得到Pb\n",
    "    Pb=np.dot(P,b)\n",
    "    ## 令Ly=Pb, Ux=y\n",
    "    #先求解Ly=Pb，利用回代法求解\n",
    "    y=np.copy(Pb)\n",
    "    for idx in range(dim):#从前往后\n",
    "        y[idx]=Pb[idx]#得到等式和\n",
    "        for i in range(idx):\n",
    "            y[idx] -= L[idx][i]*y[i]#减去前面的分量\n",
    "    #同样是回代法求解Ux=y，不过是上三角形式\n",
    "    x=np.copy(y)\n",
    "    for idx in range(dim-1,-1,-1):#从后往前\n",
    "        x[idx]=y[idx]#得到等式和\n",
    "        for i in range(idx+1,dim):\n",
    "            x[idx] -= U[idx][i]*x[i]#减去前面的分量\n",
    "        x[idx] = float(x[idx])/U[idx][idx]#注意U的对角不是1\n",
    "    return x\n",
    "matrix=np.array(    [\n",
    "[1,19,-34],\n",
    "[-2,-5,20],\n",
    "[2,8,37]])\n",
    "LU_Factor(matrix)"
   ]
  },
  {
   "cell_type": "markdown",
   "metadata": {},
   "source": [
    "# elementary reflector（householder反射）"
   ]
  },
  {
   "cell_type": "code",
   "execution_count": 305,
   "metadata": {},
   "outputs": [
    {
     "name": "stdout",
     "output_type": "stream",
     "text": [
      "正交矩阵 Q：\n",
      " [[ 0.333 -0.667 -0.667]\n",
      " [-0.667  0.333 -0.667]\n",
      " [-0.667 -0.667  0.333]]\n"
     ]
    }
   ],
   "source": [
    "import numpy as np\n",
    "\n",
    "def construct_orthonormal_basis(x):\n",
    "    \"\"\"\n",
    "    使用 Householder 反射器构建 R^3 的一组标准正交基。\n",
    "\n",
    "    参数:\n",
    "    - x: 给定的向量，形如 (n, 1)\n",
    "\n",
    "    返回:\n",
    "    - Q: 一个 3x3 的正交矩阵，其列向量是 R^3 的一组标准正交基\n",
    "    \"\"\"\n",
    "    # 确保 x 是一个列向量\n",
    "    x = np.asarray(x, dtype=float).reshape(-1, 1)\n",
    "    # 获取向量 x 的维度\n",
    "    n = x.shape[0]\n",
    "    # 构建目标向量 e1，它是标准基中的第一个基\n",
    "    e1 = np.zeros_like(x)\n",
    "    e1[0] = np.linalg.norm(x)\n",
    "    # 计算 Householder 向量 v\n",
    "    u = x - e1\n",
    "    u = u / np.linalg.norm(u)\n",
    "\n",
    "    # 计算 Householder 反射矩阵 H\n",
    "    H = np.eye(n) - 2 * u @ u.T\n",
    "\n",
    "    # 使用反射矩阵 H 计算正交基\n",
    "    Q = H\n",
    "\n",
    "    return Q\n",
    "\n",
    "# 示例调用\n",
    "x = np.array([1/3, -2/3, -2/3])  # 给定的向量\n",
    "Q = construct_orthonormal_basis(x)\n",
    "\n",
    "print(\"正交矩阵 Q：\\n\", Q)\n"
   ]
  },
  {
   "cell_type": "markdown",
   "metadata": {},
   "source": [
    "# FFT"
   ]
  },
  {
   "cell_type": "code",
   "execution_count": 306,
   "metadata": {},
   "outputs": [
    {
     "name": "stdout",
     "output_type": "stream",
     "text": [
      "输入向量：\n",
      " [1. +0.j 1. +0.j 1. +0.j 1. +0.j 1. +0.j 1. +0.j 1. +0.j 3. +0.j 1. +0.j\n",
      " 1. +0.j 0.+11.j 1. +0.j 1. +0.j 2. +1.j 1. +0.j 1. +0.j]\n",
      "FFT 结果：\n",
      " [(18+12j), (-9.460022977034246-7.944085274092375j), (11+2.414213562373096j), (-9.791844339114947+3.9167457819665237j), (2-10j), (9.142997641472032+7.178718409362195j), (-12.414213562373096+1.8284271247461892j), (9.026477474384768-7.2952385764494565j), (-4+10j), (-4.682112646696705-9.026477474384768j), (11-0.4142135623730947j), (-7.178718409362196+10.225389841764423j), (1.1102230246251565e-16-12j), (4.99913798225892+9.791844339114949j), (-9.585786437626904-3.8284271247461907j), (7.944085274092374-6.846897047281491j)]\n"
     ]
    },
    {
     "data": {
      "image/png": "[encoded data removed]",
      "text/plain": [
       "<Figure size 1200x600 with 6 Axes>"
      ]
     },
     "metadata": {},
     "output_type": "display_data"
    }
   ],
   "source": [
    "import numpy as np\n",
    "\n",
    "def fft(x):\n",
    "    \"\"\"\n",
    "    实现快速傅里叶变换 (FFT) 的递归版本。\n",
    "    参数:\n",
    "    - x: 输入的信号样本，假设长度为 2 的幂\n",
    "\n",
    "    返回:\n",
    "    - FFT 的变换结果\n",
    "    \"\"\"\n",
    "    N = len(x)\n",
    "    if N <= 1:\n",
    "        return x\n",
    "\n",
    "    # 偶数和奇数索引的部分\n",
    "    even = fft(x[0::2])\n",
    "    odd = fft(x[1::2])\n",
    "\n",
    "    # 计算复数旋转因子\n",
    "    T = [np.exp(-2j * np.pi * k / N) * odd[k] for k in range(N // 2)]\n",
    "\n",
    "    return [even[k] + T[k] for k in range(N // 2)] + \\\n",
    "           [even[k] - T[k] for k in range(N // 2)]\n",
    "\n",
    "# 示例调用\n",
    "x = np.array([1,1,1,1,1,1,1,3,1,1,11j,1,1,2+1j,1,1], dtype=complex)  # 输入长度为 16 的向量\n",
    "print(\"输入向量：\\n\", x)\n",
    "fft_result = fft(x)\n",
    "\n",
    "print(\"FFT 结果：\\n\", fft_result)\n",
    "\n",
    "import matplotlib.pyplot as plt\n",
    "plt.rcParams['font.sans-serif'] = ['SimHei']  # 设置字体为 SimHei，适合中文显示\n",
    "plt.rcParams['axes.unicode_minus'] = False  # 解决负号显示问题\n",
    "\n",
    "plt.figure(figsize=(12, 6))\n",
    "\n",
    "import numpy as np\n",
    "from numpy.fft import ifft\n",
    "\n",
    "# 绘制原始信号\n",
    "plt.subplot(231)\n",
    "plt.stem(range(len(x)), np.real(x))\n",
    "plt.title('原始信号(实部)')\n",
    "plt.xlabel('采样点')\n",
    "plt.ylabel('幅度')\n",
    "\n",
    "plt.subplot(232)\n",
    "plt.stem(range(len(x)), np.imag(x))\n",
    "plt.title('原始信号(虚部)')\n",
    "plt.xlabel('采样点')\n",
    "plt.ylabel('幅度')\n",
    "\n",
    "# 绘制FFT结果幅度谱\n",
    "plt.subplot(233)\n",
    "plt.stem(range(len(fft_result)), np.abs(fft_result))\n",
    "plt.title('FFT幅度谱')\n",
    "plt.xlabel('频率')\n",
    "plt.ylabel('幅度')\n",
    "\n",
    "# 绘制FFT结果相位谱\n",
    "plt.subplot(234)\n",
    "plt.stem(range(len(fft_result)), np.angle(fft_result))\n",
    "plt.title('FFT相位谱')\n",
    "plt.xlabel('频率')\n",
    "plt.ylabel('相位(弧度)')\n",
    "\n",
    "# 绘制IFFT结果\n",
    "ifft_result = ifft(fft_result)\n",
    "plt.subplot(235)\n",
    "plt.stem(range(len(ifft_result)), np.real(ifft_result))\n",
    "plt.title('IFFT还原信号(实部)')\n",
    "plt.xlabel('采样点')\n",
    "plt.ylabel('幅度')\n",
    "\n",
    "plt.subplot(236)\n",
    "plt.stem(range(len(ifft_result)), np.imag(ifft_result))\n",
    "plt.title('IFFT还原信号(虚部)')\n",
    "plt.xlabel('采样点')\n",
    "plt.ylabel('幅度')\n",
    "\n",
    "plt.tight_layout()"
   ]
  },
  {
   "cell_type": "code",
   "execution_count": 307,
   "metadata": {},
   "outputs": [
    {
     "data": {
      "image/png": "[encoded data removed]",
      "text/plain": [
       "<Figure size 1400x1000 with 4 Axes>"
      ]
     },
     "metadata": {},
     "output_type": "display_data"
    }
   ],
   "source": [
    "import numpy as np\n",
    "import matplotlib.pyplot as plt\n",
    "\n",
    "def dft(x):\n",
    "    \"\"\"\n",
    "    实现离散傅里叶变换 (DFT)。\n",
    "\n",
    "    参数:\n",
    "    - x: 输入的信号样本，假设长度为 N\n",
    "\n",
    "    返回:\n",
    "    - DFT 的变换结果\n",
    "    \"\"\"\n",
    "    N = len(x)\n",
    "    X = np.zeros(N, dtype=complex)  # 初始化结果数组，类型为复数\n",
    "\n",
    "    for k in range(N):\n",
    "        for n in range(N):\n",
    "            X[k] += x[n] * np.exp(-2j * np.pi * k * n / N)\n",
    "\n",
    "    return X\n",
    "\n",
    "# 示例输入信号\n",
    "# x = np.array([x for x in range(16)], dtype=complex)  # 输入长度为 16 的向量\n",
    "\n",
    "# 计算 DFT\n",
    "dft_result = dft(x)\n",
    "\n",
    "# 使用 NumPy 计算 FFT 作为对比\n",
    "fft_result_numpy = np.fft.fft(x)\n",
    "\n",
    "# 绘制幅度谱和相位谱\n",
    "fig, axs = plt.subplots(2, 2, figsize=(14, 10))\n",
    "\n",
    "# DFT 幅度谱\n",
    "axs[0, 0].stem(np.abs(dft_result), )\n",
    "axs[0, 0].set_title(\"DFT Magnitude Spectrum\")\n",
    "axs[0, 0].set_xlabel(\"Frequency Index\")\n",
    "axs[0, 0].set_ylabel(\"Magnitude\")\n",
    "\n",
    "# DFT 相位谱\n",
    "axs[1, 0].stem(np.angle(dft_result), )\n",
    "axs[1, 0].set_title(\"DFT Phase Spectrum\")\n",
    "axs[1, 0].set_xlabel(\"Frequency Index\")\n",
    "axs[1, 0].set_ylabel(\"Phase (radians)\")\n",
    "\n",
    "# FFT 幅度谱\n",
    "axs[0, 1].stem(np.abs(fft_result_numpy), )\n",
    "axs[0, 1].set_title(\"FFT Magnitude Spectrum (NumPy)\")\n",
    "axs[0, 1].set_xlabel(\"Frequency Index\")\n",
    "axs[0, 1].set_ylabel(\"Magnitude\")\n",
    "\n",
    "# FFT 相位谱\n",
    "axs[1, 1].stem(np.angle(fft_result_numpy), )\n",
    "axs[1, 1].set_title(\"FFT Phase Spectrum (NumPy)\")\n",
    "axs[1, 1].set_xlabel(\"Frequency Index\")\n",
    "axs[1, 1].set_ylabel(\"Phase (radians)\")\n",
    "\n",
    "plt.tight_layout()\n",
    "plt.show()\n"
   ]
  },
  {
   "cell_type": "markdown",
   "metadata": {},
   "source": [
    "# 正交化"
   ]
  },
  {
   "cell_type": "code",
   "execution_count": 310,
   "metadata": {},
   "outputs": [
    {
     "name": "stdout",
     "output_type": "stream",
     "text": [
      "传统 Gram-Schmidt 正交化结果 [[ 1.     0.     0.001]\n",
      " [ 0.     0.    -0.001]\n",
      " [ 0.     0.001 -0.001]]\n",
      "修改后的 Gram-Schmidt 正交化结果 [[ 1.     0.     0.001]\n",
      " [ 0.     0.    -0.001]\n",
      " [ 0.     0.001  0.   ]]\n"
     ]
    }
   ],
   "source": [
    "# 修正后的 Gram-Schmidt 正交化方法，转换向量为浮点数类型\n",
    "# 传统 Gram-Schmidt 正交化\n",
    "def gram_schmidt_classic(vectors):\n",
    "    orthogonal_vectors = []\n",
    "    for v in vectors:\n",
    "        v = v.astype(float)  # 将向量转换为浮点数类型\n",
    "        v_proj = np.zeros_like(v)\n",
    "        for u in orthogonal_vectors:\n",
    "            v_proj += np.dot(v, u) / np.dot(u, u) * u\n",
    "        u_new = v - v_proj\n",
    "        # 保留三个有效数字\n",
    "        u_new = np.round(u_new, decimals=3)\n",
    "        orthogonal_vectors.append(u_new)\n",
    "    return orthogonal_vectors\n",
    "\n",
    "# 修改后的 Gram-Schmidt 正交化\n",
    "def gram_schmidt_modified(vectors):\n",
    "    orthogonal_vectors = []\n",
    "    for i in range(len(vectors)):\n",
    "        v = vectors[i].astype(float)  # 将向量转换为浮点数类型\n",
    "        for j in range(i):\n",
    "            v -= np.dot(v, orthogonal_vectors[j]) / np.dot(orthogonal_vectors[j], orthogonal_vectors[j]) * orthogonal_vectors[j]\n",
    "        # 保留三个有效数字\n",
    "        v = np.round(v, decimals=3)\n",
    "        orthogonal_vectors.append(v)\n",
    "    return orthogonal_vectors\n",
    "\n",
    "# 重新计算\n",
    "classic_orthogonal_vectors = gram_schmidt_classic(vectors)\n",
    "modified_orthogonal_vectors = gram_schmidt_modified(vectors)\n",
    "\n",
    "# 输出结果\n",
    "classic_orthogonal_vectors_np = np.array(classic_orthogonal_vectors)\n",
    "modified_orthogonal_vectors_np = np.array(modified_orthogonal_vectors)\n",
    "\n",
    "print(\"传统 Gram-Schmidt 正交化结果\", classic_orthogonal_vectors_np)\n",
    "print(\"修改后的 Gram-Schmidt 正交化结果\", modified_orthogonal_vectors_np)\n"
   ]
  }
 ],
 "metadata": {
  "kernelspec": {
   "display_name": "base",
   "language": "python",
   "name": "python3"
  },
  "language_info": {
   "codemirror_mode": {
    "name": "ipython",
    "version": 3
   },
   "file_extension": ".py",
   "mimetype": "text/x-python",
   "name": "python",
   "nbconvert_exporter": "python",
   "pygments_lexer": "ipython3",
   "version": "3.10.0"
  }
 },
 "nbformat": 4,
 "nbformat_minor": 2
}
