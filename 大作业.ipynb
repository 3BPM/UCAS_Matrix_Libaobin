{
 "cells": [
  {
   "cell_type": "markdown",
   "metadata": {},
   "source": [
    "# 正交化"
   ]
  },
  {
   "cell_type": "code",
   "execution_count": 147,
   "metadata": {},
   "outputs": [],
   "source": [
    "import numpy as np\n",
    "import random\n",
    "from numpy.linalg import matrix_rank\n",
    "\n",
    "#控制小数点精度\n",
    "np.set_printoptions( precision=3, suppress=True )\n",
    "\n",
    "#classic施密特正交化实现的QR分解\n",
    "#可以应用于非方阵！！！\n",
    "#其中Q是正交矩阵（行大于等于列），R是上三角矩阵\n",
    "def QR_Factor(A,isprint=False):\n",
    "    #矩阵运算都用numpy来处理\n",
    "    A=np.array(A).astype(np.float32)\n",
    "    (m,n)=A.shape\n",
    "\n",
    "    #首先保证矩阵的秩等于列数（因为行大于等于列）\n",
    "    rk=matrix_rank(A)\n",
    "    if rk!=n:\n",
    "        print('必须列满秩 A!!!')\n",
    "        return -1\n",
    "\n",
    "    #初始化Q，R矩阵\n",
    "    Q=A.copy()\n",
    "    R=np.zeros(A.shape)\n",
    "    ok_column=0#表示已经正交化过的列数\n",
    "    #对于A每一列做正交化\n",
    "    for x in A.T:#对于每一列\n",
    "        u=np.copy(x)\n",
    "        for columnj in range(ok_column):\n",
    "            # 计算投影长度并填入R矩阵中\n",
    "            projection_length = Q[:, columnj].T @ x / (Q[:, columnj].T @ Q[:, columnj])\n",
    "            R[columnj, ok_column] = projection_length\n",
    "            # 减去投影分量以实现正交\n",
    "            u -= projection_length * Q[:, columnj]\n",
    "            if isprint:\n",
    "                print(f\"第{columnj}列，正交u:\", u)\n",
    "                print(\"R:\", R)\n",
    "        norm = np.linalg.norm(u)  # 模长\n",
    "        R[ok_column, ok_column] = norm  # 模长填入对角线\n",
    "\n",
    "        Q[:, ok_column] = u / norm  # 归一化得到标准正交向量\n",
    "        if isprint:\n",
    "\n",
    "            print(\"R:\",R)\n",
    "            print(\"归一化Q:\",Q)\n",
    "        ok_column+=1\n",
    "    #去掉R多余的行，保证是方阵\n",
    "    if m!=n:\n",
    "        R=np.delete(R,[n,m-1],axis=0)\n",
    "\n",
    "    return Q,R\n"
   ]
  },
  {
   "cell_type": "code",
   "execution_count": 2,
   "metadata": {},
   "outputs": [
    {
     "name": "stdout",
     "output_type": "stream",
     "text": [
      "[[ 0.33333333 -0.66666667  0.66666667]\n",
      " [ 0.93333333  0.33333333 -0.13333333]\n",
      " [-0.13333333  0.66666667  0.73333333]]\n"
     ]
    }
   ],
   "source": [
    "import numpy as np\n",
    "\n",
    "def schmidt_orthogonalization(vectors):\n",
    "    orthogonal_vectors = []\n",
    "    for v in vectors:\n",
    "        temp = v.astype(np.float64)  # 将向量转换为float64类型\n",
    "        for ov in orthogonal_vectors:\n",
    "            temp -= np.dot(v.astype(np.float64), ov) / np.dot(ov, ov) * ov\n",
    "        orthogonal_vectors.append(temp / np.linalg.norm(temp))\n",
    "    return np.array(orthogonal_vectors)\n",
    "\n",
    "# 示例使用\n",
    "A=np.array([\n",
    "[1,19,-34],\n",
    "[-2,-5,20],\n",
    "[2,8,37]])\n",
    "orthogonal_A = schmidt_orthogonalization(A.T)\n",
    "print(orthogonal_A)"
   ]
  },
  {
   "cell_type": "code",
   "execution_count": null,
   "metadata": {},
   "outputs": [
    {
     "data": {
      "text/plain": [
       "array([[  1.,  19., -34.],\n",
       "       [ -2.,  -5.,  20.],\n",
       "       [  2.,   8.,  37.]])"
      ]
     },
     "metadata": {},
     "output_type": "display_data"
    }
   ],
   "source": [
    "import numpy as np\n",
    "\n",
    "A=np.array(    [\n",
    "[1,19,-34],\n",
    "[-2,-5,20],\n",
    "[2,8,37]])\n",
    "\n",
    "\n",
    "# Q, R = np.linalg.qr(A)\n",
    "\n",
    "# print(\"矩阵 Q：\\n\", Q)\n",
    "# print(\"矩阵 R：\\n\", R)\n",
    "Q,R=Householder_Reduction(A)\n",
    "# 矩阵 Q：\n",
    "#  [[-0.333 -0.933 -0.133]\n",
    "#  [ 0.667 -0.333  0.667]\n",
    "#  [-0.667  0.133  0.733]]\n",
    "# 矩阵 R：\n",
    "#  [[ -3. -15.   0.]\n",
    "#  [  0. -15.  30.]\n",
    "#  [  0.   0.  45.]]\n",
    "Q@R\n"
   ]
  },
  {
   "cell_type": "code",
   "execution_count": null,
   "metadata": {},
   "outputs": [
    {
     "data": {
      "text/plain": [
       "array([[  1.,  19., -34.],\n",
       "       [ -2.,  -5.,  20.],\n",
       "       [  2.,   8.,  37.]])"
      ]
     },
     "metadata": {},
     "output_type": "display_data"
    }
   ],
   "source": [
    "import numpy as np\n",
    "\n",
    "A=np.array(    [\n",
    "[1,19,-34],\n",
    "[-2,-5,20],\n",
    "[2,8,37]])\n",
    "\n",
    "\n",
    "# Q, R = np.linalg.qr(A)\n",
    "\n",
    "# print(\"矩阵 Q：\\n\", Q)\n",
    "# print(\"矩阵 R：\\n\", R)\n",
    "Q,R=Householder_Reduction(A)\n",
    "# 矩阵 Q：\n",
    "#  [[-0.333 -0.933 -0.133]\n",
    "#  [ 0.667 -0.333  0.667]\n",
    "#  [-0.667  0.133  0.733]]\n",
    "# 矩阵 R：\n",
    "#  [[ -3. -15.   0.]\n",
    "#  [  0. -15.  30.]\n",
    "#  [  0.   0.  45.]]\n",
    "Q@R\n"
   ]
  },
  {
   "cell_type": "code",
   "execution_count": null,
   "metadata": {},
   "outputs": [
    {
     "data": {
      "text/plain": [
       "array([[  1.,  19., -34.],\n",
       "       [ -2.,  -5.,  20.],\n",
       "       [  2.,   8.,  37.]])"
      ]
     },
     "metadata": {},
     "output_type": "display_data"
    }
   ],
   "source": [
    "import numpy as np\n",
    "\n",
    "A=np.array(    [\n",
    "[1,19,-34],\n",
    "[-2,-5,20],\n",
    "[2,8,37]])\n",
    "\n",
    "\n",
    "# Q, R = np.linalg.qr(A)\n",
    "\n",
    "# print(\"矩阵 Q：\\n\", Q)\n",
    "# print(\"矩阵 R：\\n\", R)\n",
    "Q,R=Householder_Reduction(A)\n",
    "# 矩阵 Q：\n",
    "#  [[-0.333 -0.933 -0.133]\n",
    "#  [ 0.667 -0.333  0.667]\n",
    "#  [-0.667  0.133  0.733]]\n",
    "# 矩阵 R：\n",
    "#  [[ -3. -15.   0.]\n",
    "#  [  0. -15.  30.]\n",
    "#  [  0.   0.  45.]]\n",
    "Q@R\n"
   ]
  },
  {
   "cell_type": "code",
   "execution_count": null,
   "metadata": {},
   "outputs": [
    {
     "data": {
      "text/plain": [
       "array([[  1.,  19., -34.],\n",
       "       [ -2.,  -5.,  20.],\n",
       "       [  2.,   8.,  37.]])"
      ]
     },
     "metadata": {},
     "output_type": "display_data"
    }
   ],
   "source": [
    "import numpy as np\n",
    "\n",
    "A=np.array(    [\n",
    "[1,19,-34],\n",
    "[-2,-5,20],\n",
    "[2,8,37]])\n",
    "\n",
    "\n",
    "# Q, R = np.linalg.qr(A)\n",
    "\n",
    "# print(\"矩阵 Q：\\n\", Q)\n",
    "# print(\"矩阵 R：\\n\", R)\n",
    "Q,R=Householder_Reduction(A)\n",
    "# 矩阵 Q：\n",
    "#  [[-0.333 -0.933 -0.133]\n",
    "#  [ 0.667 -0.333  0.667]\n",
    "#  [-0.667  0.133  0.733]]\n",
    "# 矩阵 R：\n",
    "#  [[ -3. -15.   0.]\n",
    "#  [  0. -15.  30.]\n",
    "#  [  0.   0.  45.]]\n",
    "Q@R\n"
   ]
  },
  {
   "cell_type": "code",
   "execution_count": null,
   "metadata": {},
   "outputs": [
    {
     "data": {
      "text/plain": [
       "array([[  1.,  19., -34.],\n",
       "       [ -2.,  -5.,  20.],\n",
       "       [  2.,   8.,  37.]])"
      ]
     },
     "metadata": {},
     "output_type": "display_data"
    }
   ],
   "source": [
    "import numpy as np\n",
    "\n",
    "A=np.array(    [\n",
    "[1,19,-34],\n",
    "[-2,-5,20],\n",
    "[2,8,37]])\n",
    "\n",
    "\n",
    "# Q, R = np.linalg.qr(A)\n",
    "\n",
    "# print(\"矩阵 Q：\\n\", Q)\n",
    "# print(\"矩阵 R：\\n\", R)\n",
    "Q,R=Householder_Reduction(A)\n",
    "# 矩阵 Q：\n",
    "#  [[-0.333 -0.933 -0.133]\n",
    "#  [ 0.667 -0.333  0.667]\n",
    "#  [-0.667  0.133  0.733]]\n",
    "# 矩阵 R：\n",
    "#  [[ -3. -15.   0.]\n",
    "#  [  0. -15.  30.]\n",
    "#  [  0.   0.  45.]]\n",
    "Q@R\n"
   ]
  },
  {
   "cell_type": "code",
   "execution_count": null,
   "metadata": {},
   "outputs": [
    {
     "data": {
      "text/plain": [
       "array([[  1.,  19., -34.],\n",
       "       [ -2.,  -5.,  20.],\n",
       "       [  2.,   8.,  37.]])"
      ]
     },
     "metadata": {},
     "output_type": "display_data"
    }
   ],
   "source": [
    "import numpy as np\n",
    "\n",
    "A=np.array(    [\n",
    "[1,19,-34],\n",
    "[-2,-5,20],\n",
    "[2,8,37]])\n",
    "\n",
    "\n",
    "# Q, R = np.linalg.qr(A)\n",
    "\n",
    "# print(\"矩阵 Q：\\n\", Q)\n",
    "# print(\"矩阵 R：\\n\", R)\n",
    "Q,R=Householder_Reduction(A)\n",
    "# 矩阵 Q：\n",
    "#  [[-0.333 -0.933 -0.133]\n",
    "#  [ 0.667 -0.333  0.667]\n",
    "#  [-0.667  0.133  0.733]]\n",
    "# 矩阵 R：\n",
    "#  [[ -3. -15.   0.]\n",
    "#  [  0. -15.  30.]\n",
    "#  [  0.   0.  45.]]\n",
    "Q@R\n"
   ]
  },
  {
   "cell_type": "code",
   "execution_count": null,
   "metadata": {},
   "outputs": [
    {
     "data": {
      "text/plain": [
       "array([[  1.,  19., -34.],\n",
       "       [ -2.,  -5.,  20.],\n",
       "       [  2.,   8.,  37.]])"
      ]
     },
     "metadata": {},
     "output_type": "display_data"
    }
   ],
   "source": [
    "import numpy as np\n",
    "\n",
    "A=np.array(    [\n",
    "[1,19,-34],\n",
    "[-2,-5,20],\n",
    "[2,8,37]])\n",
    "\n",
    "\n",
    "# Q, R = np.linalg.qr(A)\n",
    "\n",
    "# print(\"矩阵 Q：\\n\", Q)\n",
    "# print(\"矩阵 R：\\n\", R)\n",
    "Q,R=Householder_Reduction(A)\n",
    "# 矩阵 Q：\n",
    "#  [[-0.333 -0.933 -0.133]\n",
    "#  [ 0.667 -0.333  0.667]\n",
    "#  [-0.667  0.133  0.733]]\n",
    "# 矩阵 R：\n",
    "#  [[ -3. -15.   0.]\n",
    "#  [  0. -15.  30.]\n",
    "#  [  0.   0.  45.]]\n",
    "Q@R\n"
   ]
  },
  {
   "cell_type": "code",
   "execution_count": null,
   "metadata": {},
   "outputs": [
    {
     "data": {
      "text/plain": [
       "array([[  1.,  19., -34.],\n",
       "       [ -2.,  -5.,  20.],\n",
       "       [  2.,   8.,  37.]])"
      ]
     },
     "metadata": {},
     "output_type": "display_data"
    }
   ],
   "source": [
    "import numpy as np\n",
    "\n",
    "A=np.array(    [\n",
    "[1,19,-34],\n",
    "[-2,-5,20],\n",
    "[2,8,37]])\n",
    "\n",
    "\n",
    "# Q, R = np.linalg.qr(A)\n",
    "\n",
    "# print(\"矩阵 Q：\\n\", Q)\n",
    "# print(\"矩阵 R：\\n\", R)\n",
    "Q,R=Householder_Reduction(A)\n",
    "# 矩阵 Q：\n",
    "#  [[-0.333 -0.933 -0.133]\n",
    "#  [ 0.667 -0.333  0.667]\n",
    "#  [-0.667  0.133  0.733]]\n",
    "# 矩阵 R：\n",
    "#  [[ -3. -15.   0.]\n",
    "#  [  0. -15.  30.]\n",
    "#  [  0.   0.  45.]]\n",
    "Q@R\n"
   ]
  },
  {
   "cell_type": "code",
   "execution_count": null,
   "metadata": {},
   "outputs": [
    {
     "data": {
      "text/plain": [
       "array([[  1.,  19., -34.],\n",
       "       [ -2.,  -5.,  20.],\n",
       "       [  2.,   8.,  37.]])"
      ]
     },
     "metadata": {},
     "output_type": "display_data"
    }
   ],
   "source": [
    "import numpy as np\n",
    "\n",
    "A=np.array(    [\n",
    "[1,19,-34],\n",
    "[-2,-5,20],\n",
    "[2,8,37]])\n",
    "\n",
    "\n",
    "# Q, R = np.linalg.qr(A)\n",
    "\n",
    "# print(\"矩阵 Q：\\n\", Q)\n",
    "# print(\"矩阵 R：\\n\", R)\n",
    "Q,R=Householder_Reduction(A)\n",
    "# 矩阵 Q：\n",
    "#  [[-0.333 -0.933 -0.133]\n",
    "#  [ 0.667 -0.333  0.667]\n",
    "#  [-0.667  0.133  0.733]]\n",
    "# 矩阵 R：\n",
    "#  [[ -3. -15.   0.]\n",
    "#  [  0. -15.  30.]\n",
    "#  [  0.   0.  45.]]\n",
    "Q@R\n"
   ]
  },
  {
   "cell_type": "code",
   "execution_count": 148,
   "metadata": {},
   "outputs": [
    {
     "data": {
      "text/plain": [
       "array([[  1.,  19., -34.],\n",
       "       [ -2.,  -5.,  20.],\n",
       "       [  2.,   8.,  37.]])"
      ]
     },
     "execution_count": 148,
     "metadata": {},
     "output_type": "execute_result"
    }
   ],
   "source": [
    "import numpy as np\n",
    "\n",
    "A=np.array(    [\n",
    "[1,19,-34],\n",
    "[-2,-5,20],\n",
    "[2,8,37]])\n",
    "\n",
    "\n",
    "# Q, R = np.linalg.qr(A)\n",
    "\n",
    "# print(\"矩阵 Q：\\n\", Q)\n",
    "# print(\"矩阵 R：\\n\", R)\n",
    "Q,R=Householder_Reduction(A)\n",
    "# 矩阵 Q：\n",
    "#  [[-0.333 -0.933 -0.133]\n",
    "#  [ 0.667 -0.333  0.667]\n",
    "#  [-0.667  0.133  0.733]]\n",
    "# 矩阵 R：\n",
    "#  [[ -3. -15.   0.]\n",
    "#  [  0. -15.  30.]\n",
    "#  [  0.   0.  45.]]\n",
    "Q@R\n"
   ]
  },
  {
   "cell_type": "markdown",
   "metadata": {},
   "source": [
    "# G"
   ]
  },
  {
   "cell_type": "code",
   "execution_count": 149,
   "metadata": {},
   "outputs": [],
   "source": [
    "import numpy as np\n",
    "\n",
    "#控制小数点精度\n",
    "np.set_printoptions( precision=3, suppress=True )\n",
    "\n",
    "#旋转矩阵实现的正交规约 PA=T\n",
    "#可以应用于非方阵！！！\n",
    "#其中P是正交矩阵(方阵)，T是伪上三角矩阵（可以不是方阵）\n",
    "def create_Tpq_A(n, p, q, c, s):\n",
    "    T_pq = np.eye(n)#, dtype=complex\n",
    "    # 更新矩阵的指定位置\n",
    "    T_pq[p, p] = np.conj(c)  # 对角线位置 (p, p) 为 c 的共轭\n",
    "    T_pq[q, q] = c           # 对角线位置 (q, q) 为 c\n",
    "    T_pq[p, q] = np.conj(s)  # 位置 (p, q) 为 s 的共轭\n",
    "    T_pq[q, p] = -s          # 位置 (q, p) 为 -s\n",
    "    return T_pq\n",
    "def Givens_Reduction(A):\n",
    "    #矩阵运算都用numpy来处理\n",
    "    A=np.array(A)\n",
    "    (m,n)=A.shape\n",
    "    #首先初始化P，T矩阵\n",
    "    Q=np.identity(m)\n",
    "    R=np.copy(A)\n",
    "    #按顺序每一列进行变换\n",
    "    for columnj in range(n):\n",
    "        for rowi in range(m-1,columnj,-1):\n",
    "            #首先得到要变换的两个数\n",
    "            x=R[columnj,columnj]\n",
    "            y=R[rowi,columnj]\n",
    "            norm=np.sqrt(x**2+y**2)\n",
    "            #直接构造旋转矩阵\n",
    "            c=x/norm\n",
    "            s=y/norm\n",
    "            P_ij=create_Tpq_A(m,columnj,rowi,c,s)\n",
    "            #累乘可以得到最终的P和T矩阵\n",
    "            Q=P_ij@Q\n",
    "            R=P_ij@R\n",
    "            print(f\"第i步骤P({rowi},{columnj})={P_ij}\\n R是={R}\\n \")\n",
    "\n",
    "    #由于要求是求矩阵分解，所以转化为QR分解的形式\n",
    "    Q_A=Q.T#由于P是正交方阵，所以转置=逆\n",
    "\n",
    "    return Q_A,R"
   ]
  },
  {
   "cell_type": "markdown",
   "metadata": {},
   "source": [
    "# H "
   ]
  },
  {
   "cell_type": "code",
   "execution_count": 150,
   "metadata": {},
   "outputs": [],
   "source": [
    "import numpy as np\n",
    "import math\n",
    "\n",
    "#控制小数点精度\n",
    "np.set_printoptions( precision=3, suppress=True )\n",
    "def vector_norm(vector):\n",
    "    # 使用numpy的dot计算向量内积，再开平方根得到模长\n",
    "    return math.sqrt(np.dot(vector, vector))\n",
    "def normalize_vector(vector):\n",
    "    # 计算向量的模长\n",
    "    norm = vector_norm(vector)\n",
    "    if norm == 0:# 如果模长为0，返回原0向量\n",
    "        return vector\n",
    "    return vector / norm\n",
    "#对称矩阵实现的正交规约 PA=T\n",
    "#可以应用于非方阵！！！\n",
    "#其中P是正交矩阵(方阵)，T是伪上三角矩阵（可以不是方阵）\n",
    "def Householder_Reduction(A,isprint=False):\n",
    "    #矩阵运算都用numpy来处理\n",
    "    A=np.array(A).astype(np.float32)\n",
    "    (len_r,len_c)=A.shape\n",
    "\n",
    "    Q=np.identity(len_r)\n",
    "    #分别处理两种不是方阵的情况\n",
    "    if len_r > len_c:\n",
    "        iter_num=len_c\n",
    "    else:\n",
    "        iter_num=len_r-1\n",
    "\n",
    "    for idx in range(iter_num):\n",
    "        #首先构造ei向量\n",
    "        e = np.zeros(len_r-idx)\n",
    "        e[0] = 1\n",
    "        I = np.identity(len_r-idx)\n",
    "        #注意u要是列向量\n",
    "        a = A[idx:,idx]#每行向量\n",
    "        u = A[idx:,idx].T - vector_norm(a)*e.T\n",
    "        u = normalize_vector(u)\n",
    "        exp_u = np.expand_dims(u,axis=0)\n",
    "        #得到反射算子\n",
    "        Rflt = I - 2.0*exp_u.T@exp_u\n",
    "        #拓展成正常大小\n",
    "        Hi = np.identity(len_r)\n",
    "        Hi[idx:,idx:] = Rflt\n",
    "        #更新\n",
    "        Q = Hi@Q\n",
    "        A = Hi@A\n",
    "        if isprint:\n",
    "            print(f\"第{idx}步，u是{u},Rflt是{Rflt}\\n,Q{Q}\\nHiiiA是{A}\\n\")\n",
    "\n",
    "    Q_A=Q.T\n",
    "    R_A=A\n",
    "    return Q_A,R_A\n"
   ]
  },
  {
   "cell_type": "markdown",
   "metadata": {},
   "source": [
    "# 结果"
   ]
  },
  {
   "cell_type": "code",
   "execution_count": 151,
   "metadata": {},
   "outputs": [
    {
     "data": {
      "text/plain": [
       "array([[  1.,  19., -34.],\n",
       "       [ -2.,  -5.,  20.],\n",
       "       [  2.,   8.,  37.]])"
      ]
     },
     "execution_count": 151,
     "metadata": {},
     "output_type": "execute_result"
    }
   ],
   "source": [
    "import numpy as np\n",
    "\n",
    "A=np.array(    [\n",
    "[1,19,-34],\n",
    "[-2,-5,20],\n",
    "[2,8,37]])\n",
    "\n",
    "\n",
    "# Q, R = np.linalg.qr(A)\n",
    "\n",
    "# print(\"矩阵 Q：\\n\", Q)\n",
    "# print(\"矩阵 R：\\n\", R)\n",
    "Q,R=Householder_Reduction(A)\n",
    "# 矩阵 Q：\n",
    "#  [[-0.333 -0.933 -0.133]\n",
    "#  [ 0.667 -0.333  0.667]\n",
    "#  [-0.667  0.133  0.733]]\n",
    "# 矩阵 R：\n",
    "#  [[ -3. -15.   0.]\n",
    "#  [  0. -15.  30.]\n",
    "#  [  0.   0.  45.]]\n",
    "Q@R\n"
   ]
  },
  {
   "cell_type": "code",
   "execution_count": 152,
   "metadata": {},
   "outputs": [
    {
     "name": "stdout",
     "output_type": "stream",
     "text": [
      "第i步骤P(2,0)=[[ 0.447  0.     0.894]\n",
      " [ 0.     1.     0.   ]\n",
      " [-0.894  0.     0.447]]\n",
      " R是=[[  2.236  15.652  17.889]\n",
      " [ -2.     -5.     20.   ]\n",
      " [  0.    -13.416  46.957]]\n",
      " \n",
      "第i步骤P(1,0)=[[ 0.745 -0.667  0.   ]\n",
      " [ 0.667  0.745  0.   ]\n",
      " [ 0.     0.     1.   ]]\n",
      " R是=[[  3.     15.     -0.   ]\n",
      " [  0.      6.708  26.833]\n",
      " [  0.    -13.416  46.957]]\n",
      " \n",
      "第i步骤P(2,1)=[[ 1.     0.     0.   ]\n",
      " [ 0.     0.447 -0.894]\n",
      " [ 0.     0.894  0.447]]\n",
      " R是=[[  3.  15.  -0.]\n",
      " [  0.  15. -30.]\n",
      " [  0.   0.  45.]]\n",
      " \n"
     ]
    },
    {
     "data": {
      "text/plain": [
       "(array([[ 0.333,  0.933, -0.133],\n",
       "        [-0.667,  0.333,  0.667],\n",
       "        [ 0.667, -0.133,  0.733]]),\n",
       " array([[  3.,  15.,  -0.],\n",
       "        [  0.,  15., -30.],\n",
       "        [  0.,   0.,  45.]]))"
      ]
     },
     "execution_count": 152,
     "metadata": {},
     "output_type": "execute_result"
    }
   ],
   "source": [
    "Givens_Reduction(A)"
   ]
  },
  {
   "cell_type": "code",
   "execution_count": 153,
   "metadata": {},
   "outputs": [
    {
     "data": {
      "text/plain": [
       "(array([[ 0.333,  0.933, -0.133],\n",
       "        [-0.667,  0.333,  0.667],\n",
       "        [ 0.667, -0.133,  0.733]], dtype=float32),\n",
       " array([[  3.,  15.,   0.],\n",
       "        [  0.,  15., -30.],\n",
       "        [  0.,   0.,  45.]]))"
      ]
     },
     "execution_count": 153,
     "metadata": {},
     "output_type": "execute_result"
    }
   ],
   "source": [
    "\n",
    "QR_Factor(A)"
   ]
  },
  {
   "cell_type": "markdown",
   "metadata": {},
   "source": [
    "# solve Ax=b"
   ]
  },
  {
   "cell_type": "code",
   "execution_count": 154,
   "metadata": {},
   "outputs": [
    {
     "name": "stdout",
     "output_type": "stream",
     "text": [
      "x[1] = 8.3\n",
      "x[0] = -9.805713928655456\n",
      "[-9.806  8.3  ]\n"
     ]
    }
   ],
   "source": [
    "def solve_qr(Q,R, b):\n",
    "    # A=QR  x=A-1b   x=R-1Q-1b\n",
    "    Q_T_b = Q.T@ b\n",
    "    x =  np.linalg.inv(R)@Q_T_b\n",
    "    return x\n",
    "\n",
    "#判断方程Ax=b是否有解\n",
    "def is_solvable(A,b):\n",
    "    Ab=np.concatenate((A,np.expand_dims(b,axis=0).T),axis=1)\n",
    "    #如果增广矩阵的秩等于A的秩就有解\n",
    "    return matrix_rank(A)==matrix_rank(Ab)\n",
    "\n",
    "#输入的Q可能不是方阵\n",
    "#结果可能是最小二乘解！！！！！\n",
    "def solveQR(Q,R,b):\n",
    "    dim=R.shape[1]\n",
    "    #等价于求解 Rx=Q.Tb\n",
    "    QTb=np.dot(Q.T,b)\n",
    "    #去掉R和b多余的行\n",
    "    if R.shape[0]!=R.shape[1]:\n",
    "        R=np.delete(R,[R.shape[1],R.shape[0]-1],axis=0)\n",
    "        QTb=QTb[:R.shape[1]]\n",
    "    #回代法求解Rx=Q.Tb,上三角形式\n",
    "    #但是这个方程不一定有解，要分情况讨论\n",
    "    if is_solvable(R,QTb):#1.方程有解\n",
    "        x=np.copy(QTb)\n",
    "        for idx in range(dim-1,-1,-1):#从后往前\n",
    "            x[idx]=QTb[idx]#得到等式和\n",
    "            for i in range(idx+1,dim):\n",
    "                x[idx] -= R[idx][i]*x[i]#减去前面的分量\n",
    "            if int(R[idx][idx])==0:#2.如果R对角线存在0，那就是有无穷解\n",
    "                #由于是无穷解，所以随便给出一个解即可\n",
    "                x[idx] = random.randrange(-100,100)/10.0\n",
    "            else:#3.唯一解\n",
    "                x[idx] = float(x[idx])/R[idx][idx]#注意U的对角不是1\n",
    "            print('x[{}] = {}'.format(idx,x[idx]))\n",
    "    else:#方程无解\n",
    "        return -1\n",
    "    return x\n",
    "\n",
    "A1 = np.array([[1, 2], [3, 4], [5, 6]])\n",
    "b = np.array([1, 2, 3])\n",
    "Q,R=QR_Factor(A1)\n",
    "x = solve_qr(Q,R, b)\n",
    "x = solveQR(Q,R, b)\n",
    "print(x)\n",
    "\n"
   ]
  }
 ],
 "metadata": {
  "kernelspec": {
   "display_name": "base",
   "language": "python",
   "name": "python3"
  },
  "language_info": {
   "codemirror_mode": {
    "name": "ipython",
    "version": 3
   },
   "file_extension": ".py",
   "mimetype": "text/x-python",
   "name": "python",
   "nbconvert_exporter": "python",
   "pygments_lexer": "ipython3",
   "version": "3.10.0"
  }
 },
 "nbformat": 4,
 "nbformat_minor": 2
}
